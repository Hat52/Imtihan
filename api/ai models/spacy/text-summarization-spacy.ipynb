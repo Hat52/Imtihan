{
 "cells": [
  {
   "cell_type": "code",
   "execution_count": 130,
   "metadata": {},
   "outputs": [],
   "source": [
    "import spacy\n",
    "from spacy.lang.en.stop_words import STOP_WORDS"
   ]
  },
  {
   "cell_type": "code",
   "execution_count": 131,
   "metadata": {},
   "outputs": [],
   "source": [
    "doc1='''Cricket is a bat-and-ball game played between two teams of eleven players on a field at the centre of which is a 22-yard (20-metre) pitch with a wicket at each end, each comprising two bails balanced on three stumps. The batting side scores runs by striking the ball bowled at one of the wickets with the bat and then running between the wickets, while the bowling and fielding side tries to prevent this (by preventing the ball from leaving the field, and getting the ball to either wicket) and dismiss each batter (so they are \"out\"). Means of dismissal include being bowled, when the ball hits the stumps and dislodges the bails, and by the fielding side either catching the ball after it is hit by the bat, but before it hits the ground, or hitting a wicket with the ball before a batter can cross the crease in front of the wicket. When ten batters have been dismissed, the innings ends and the teams swap roles. The game is adjudicated by two umpires, aided by a third umpire and match referee in international matches. They communicate with two off-field scorers who record the match's statistical information.'''"
   ]
  },
  {
   "cell_type": "code",
   "execution_count": 132,
   "metadata": {},
   "outputs": [],
   "source": [
    "nlp=spacy.load('en_core_web_sm')"
   ]
  },
  {
   "cell_type": "code",
   "execution_count": 133,
   "metadata": {},
   "outputs": [],
   "source": [
    "document=nlp(doc1)\n",
    "stop_words=list(STOP_WORDS)"
   ]
  },
  {
   "cell_type": "code",
   "execution_count": 134,
   "metadata": {},
   "outputs": [],
   "source": [
    "words_frequencies=dict()\n",
    "for word in document:\n",
    "    if word.text not in stop_words:\n",
    "        if word.text not in words_frequencies.keys():\n",
    "            words_frequencies[word.text]=1\n",
    "        else:\n",
    "            words_frequencies[word.text]+=1\n",
    "#print(words_frequencies)"
   ]
  },
  {
   "cell_type": "code",
   "execution_count": 135,
   "metadata": {},
   "outputs": [],
   "source": [
    "maximum_frequency=max(words_frequencies.values())\n",
    "for word in words_frequencies:\n",
    "    words_frequencies[word]=words_frequencies[word]/maximum_frequency\n",
    "#words_frequencies"
   ]
  },
  {
   "cell_type": "code",
   "execution_count": 136,
   "metadata": {},
   "outputs": [],
   "source": [
    "sentences=[sentence for sentence in document.sents]\n",
    "sentence_scores={}\n",
    "for sentence in sentences:\n",
    "    for word in sentence:\n",
    "        if word.text.lower() in words_frequencies.keys():\n",
    "            if len(sentence.text.split(' ')) < 30:\n",
    "                if sentence not in sentence_scores.keys():\n",
    "                    sentence_scores[sentence]=words_frequencies[word.text.lower()]\n",
    "                else:\n",
    "                    sentence_scores[sentence]+=words_frequencies[word.text.lower()]\n",
    "#sentence_scores                    "
   ]
  },
  {
   "cell_type": "code",
   "execution_count": 137,
   "metadata": {},
   "outputs": [],
   "source": [
    "from heapq import nlargest"
   ]
  },
  {
   "cell_type": "code",
   "execution_count": 138,
   "metadata": {},
   "outputs": [
    {
     "name": "stdout",
     "output_type": "stream",
     "text": [
      "[The game is adjudicated by two umpires, aided by a third umpire and match referee in international matches., When ten batters have been dismissed, the innings ends and the teams swap roles., They communicate with two off-field scorers who record the match's statistical information.]\n"
     ]
    }
   ],
   "source": [
    "summarized_sentences=nlargest(3,sentence_scores,key=sentence_scores.get)\n",
    "print(summarized_sentences)"
   ]
  },
  {
   "cell_type": "code",
   "execution_count": 139,
   "metadata": {},
   "outputs": [
    {
     "data": {
      "text/plain": [
       "\"The game is adjudicated by two umpires, aided by a third umpire and match referee in international matches.When ten batters have been dismissed, the innings ends and the teams swap roles.They communicate with two off-field scorers who record the match's statistical information.\""
      ]
     },
     "execution_count": 139,
     "metadata": {},
     "output_type": "execute_result"
    }
   ],
   "source": [
    "final_sentences=[Ssentence.text for Ssentence in summarized_sentences]\n",
    "summary=''.join(final_sentences).replace('\\n','')\n",
    "summary"
   ]
  },
  {
   "cell_type": "code",
   "execution_count": 140,
   "metadata": {},
   "outputs": [
    {
     "name": "stdout",
     "output_type": "stream",
     "text": [
      "orginal doc- 1117 || summarized doc- 278\n"
     ]
    }
   ],
   "source": [
    "print(f'orginal doc- {len(doc1)} || summarized doc- {len(summary)}')"
   ]
  }
 ],
 "metadata": {
  "kernelspec": {
   "display_name": "Python 3",
   "language": "python",
   "name": "python3"
  },
  "language_info": {
   "codemirror_mode": {
    "name": "ipython",
    "version": 3
   },
   "file_extension": ".py",
   "mimetype": "text/x-python",
   "name": "python",
   "nbconvert_exporter": "python",
   "pygments_lexer": "ipython3",
   "version": "3.11.1 (tags/v3.11.1:a7a450f, Dec  6 2022, 19:58:39) [MSC v.1934 64 bit (AMD64)]"
  },
  "orig_nbformat": 4,
  "vscode": {
   "interpreter": {
    "hash": "dc930dd76afcc15e0468be4414f5485c0965d3dd2598b55e65bc5eb78a7b19c9"
   }
  }
 },
 "nbformat": 4,
 "nbformat_minor": 2
}
